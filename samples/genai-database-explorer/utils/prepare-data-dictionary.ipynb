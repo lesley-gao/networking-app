{
 "cells": [
  {
   "cell_type": "markdown",
   "metadata": {},
   "source": [
    "# Split Data Dictionary Markdown\n",
    "\n",
    "This notebook is used to split the data dictionary into separate markdown files for each table. This will be used to add "
   ]
  },
  {
   "cell_type": "code",
   "execution_count": 1,
   "metadata": {
    "dotnet_interactive": {
     "language": "csharp"
    },
    "polyglot_notebook": {
     "kernelName": "csharp"
    }
   },
   "outputs": [],
   "source": [
    "var sourceMarkdownFile = \"data_dictionary.md\";"
   ]
  },
  {
   "cell_type": "code",
   "execution_count": 2,
   "id": "split-markdown-file",
   "metadata": {
    "dotnet_interactive": {
     "language": "csharp"
    },
    "polyglot_notebook": {
     "kernelName": "csharp"
    }
   },
   "outputs": [],
   "source": [
    "using System;\n",
    "using System.IO;\n",
    "using System.Linq;\n",
    "using System.Text.RegularExpressions;\n",
    "using System.Threading.Tasks;\n",
    "\n",
    "async Task SplitMarkdownFile(string inputFilePath)\n",
    "{\n",
    "    string outputDirectory = Path.Combine(Path.GetDirectoryName(inputFilePath), \"data_dictionary_tables\");\n",
    "    Directory.CreateDirectory(outputDirectory);\n",
    "\n",
    "    string[] lines = await File.ReadAllLinesAsync(inputFilePath);\n",
    "    var splitFiles = lines\n",
    "        .Select((line, index) => new { line, index })\n",
    "        .Where(x => x.line.StartsWith(\"## \"))\n",
    "        .Select(x => x.index)\n",
    "        .ToList();\n",
    "\n",
    "    splitFiles.Add(lines.Length);\n",
    "\n",
    "    for (int i = 0; i < splitFiles.Count - 1; i++)\n",
    "    {\n",
    "        int start = splitFiles[i];\n",
    "        int end = splitFiles[i + 1];\n",
    "        string heading = lines[start].Substring(3).Trim();\n",
    "        string tableName = heading.Contains(\" - \") ? heading.Split(\" - \")[1] : heading;\n",
    "        string fileName = \"dbo.\" + tableName + \".md\";\n",
    "        string outputFilePath = Path.Combine(outputDirectory, fileName);\n",
    "        await File.WriteAllLinesAsync(outputFilePath, lines[start..end]);\n",
    "    }\n",
    "}\n",
    "\n",
    "await SplitMarkdownFile(sourceMarkdownFile);"
   ]
  }
 ],
 "metadata": {
  "kernelspec": {
   "display_name": ".NET (C#)",
   "language": "C#",
   "name": ".net-csharp"
  },
  "language_info": {
   "codemirror_mode": {
    "name": "ipython",
    "version": 3
   },
   "file_extension": ".py",
   "mimetype": "text/x-python",
   "name": "polyglot-notebook",
   "nbconvert_exporter": "python",
   "pygments_lexer": "ipython3",
   "version": "3.12.7"
  },
  "polyglot_notebook": {
   "kernelInfo": {
    "defaultKernelName": "csharp",
    "items": [
     {
      "aliases": [],
      "name": "csharp"
     }
    ]
   }
  }
 },
 "nbformat": 4,
 "nbformat_minor": 2
}
